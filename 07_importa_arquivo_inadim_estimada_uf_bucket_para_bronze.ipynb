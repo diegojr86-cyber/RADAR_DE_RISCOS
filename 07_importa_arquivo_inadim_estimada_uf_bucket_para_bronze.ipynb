{
 "cells": [
  {
   "cell_type": "code",
   "execution_count": 2,
   "id": "d9cac845-a412-4301-b459-964af41aae12",
   "metadata": {},
   "outputs": [
    {
     "name": "stdout",
     "output_type": "stream",
     "text": [
      "✅ Tabela `dados_bacen` criada com sucesso em `camada_bronze` com campo data_carga = 2025-08-15\n"
     ]
    }
   ],
   "source": [
    "\n",
    "from google.cloud import bigquery\n",
    "import os\n",
    "from datetime import datetime\n",
    "\n",
    "# Caminho para o arquivo de credenciais\n",
    "os.environ[\"GOOGLE_APPLICATION_CREDENTIALS\"] = r\"C:\\Users\\diego\\OneDrive\\DATAMASTER\\dados_bacen_new\\case-radar-de-risco-f1ef8b6de88c.json\"\n",
    "\n",
    "# 📅 Data atual no formato YYYYMMDD\n",
    "data_hoje = datetime.today().strftime('%Y%m%d')\n",
    "\n",
    "# 🔧 Parâmetros dinâmicos\n",
    "bucket_name = \"bucket-datamaster\"\n",
    "file_name = f\"inadimplencia_bacen_{data_hoje}.csv\"\n",
    "dataset_id = \"camada_bronze\"\n",
    "table_id = \"dados_bacen\"\n",
    "\n",
    "# 🗓️ Converte a data para o formato yyyy-mm-dd\n",
    "data_formatada = datetime.strptime(data_hoje, \"%Y%m%d\").date()\n",
    "\n",
    "# URI do arquivo no bucket\n",
    "uri = f\"gs://{bucket_name}/{file_name}\"\n",
    "\n",
    "# Cliente do BigQuery\n",
    "client = bigquery.Client()\n",
    "\n",
    "# Configuração do job\n",
    "job_config = bigquery.LoadJobConfig(\n",
    "    source_format=bigquery.SourceFormat.CSV,\n",
    "    skip_leading_rows=1,\n",
    "    autodetect=True,\n",
    "    write_disposition=\"WRITE_TRUNCATE\",  # Sobrescreve se já existir\n",
    ")\n",
    "\n",
    "# Cria a tabela temporária\n",
    "table_ref = client.dataset(dataset_id).table(table_id)\n",
    "load_job = client.load_table_from_uri(uri, table_ref, job_config=job_config)\n",
    "load_job.result()\n",
    "\n",
    "# Adiciona a coluna data_carga com a data de hoje\n",
    "query = f\"\"\"\n",
    "CREATE OR REPLACE TABLE `{client.project}.{dataset_id}.{table_id}` AS\n",
    "SELECT *, DATE('{data_formatada}') AS data_carga\n",
    "FROM `{client.project}.{dataset_id}.{table_id}`\n",
    "\"\"\"\n",
    "\n",
    "query_job = client.query(query)\n",
    "query_job.result()\n",
    "\n",
    "print(f\"✅ Tabela `{table_id}` criada com sucesso em `{dataset_id}` com campo data_carga = {data_formatada}\")"
   ]
  }
 ],
 "metadata": {
  "kernelspec": {
   "display_name": "Python [conda env:base] *",
   "language": "python",
   "name": "conda-base-py"
  },
  "language_info": {
   "codemirror_mode": {
    "name": "ipython",
    "version": 3
   },
   "file_extension": ".py",
   "mimetype": "text/x-python",
   "name": "python",
   "nbconvert_exporter": "python",
   "pygments_lexer": "ipython3",
   "version": "3.13.5"
  }
 },
 "nbformat": 4,
 "nbformat_minor": 5
}
