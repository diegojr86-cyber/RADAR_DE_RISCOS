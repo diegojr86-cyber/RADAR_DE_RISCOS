{
 "cells": [
  {
   "cell_type": "code",
   "execution_count": 8,
   "id": "20f60582-d446-46ab-bdd5-02a5f9548404",
   "metadata": {},
   "outputs": [
    {
     "name": "stdout",
     "output_type": "stream",
     "text": [
      "✅ Arquivo exportado com sucesso: C:\\Users\\diego\\OneDrive\\DATAMASTER\\dados_bacen_new\\codigo_modalidade_tipo_20250815.csv\n"
     ]
    }
   ],
   "source": [
    "\n",
    "import pandas as pd\n",
    "\n",
    "# Dicionario de-para fornecido\n",
    "\n",
    "depara = {\n",
    "    24363: ('Modalidade', 'Credito pessoal'),\n",
    "    24364: ('Modalidade', 'Aquisicao de veiculos'),\n",
    "    24365: ('Modalidade', 'Credito consignado'),\n",
    "    20786: ('Modalidade', 'Cartao de credito rotativo'),\n",
    "    20787: ('Modalidade', 'Cartao de credito parcelado'),\n",
    "    24367: ('Modalidade', 'Cheque especial'),\n",
    "    20611: ('Modalidade', 'Credito habitacional'),\n",
    "    24369: ('Setor', 'Pessoa fisica'),\n",
    "    24370: ('Setor', 'Pessoa juridica')\n",
    "}\n",
    "\n",
    "# Transformar em lista de dicionarios\n",
    "dados_formatados = [\n",
    "    {'codigo': codigo, 'tipo': tipo, 'modalidade': modalidade}\n",
    "    for codigo, (tipo, modalidade) in depara.items()\n",
    "]\n",
    "\n",
    "# Criar DataFrame\n",
    "df = pd.DataFrame(dados_formatados)\n",
    "\n",
    "# Salvar como CSV\n",
    "df.to_csv('codigo_modalidade_tipo.csv', index=False)\n",
    "\n",
    "# Exporta o arquivo CSV para o diretório especificado\n",
    "from datetime import datetime\n",
    "\n",
    "# Gera a data atual no formato YYYYmmdd\n",
    "data_processamento = datetime.today().strftime('%Y%m%d')\n",
    "\n",
    "# Monta o caminho completo com a data no nome do arquivo\n",
    "caminho_arquivo = fr'C:\\Users\\diego\\OneDrive\\DATAMASTER\\dados_bacen_new\\codigo_modalidade_tipo_{data_processamento}.csv'\n",
    "\n",
    "# Exporta o arquivo CSV\n",
    "df.to_csv(caminho_arquivo, index=False, encoding='utf-8-sig')\n",
    "print(f\"✅ Arquivo exportado com sucesso: {caminho_arquivo}\")\n",
    "\n",
    "\n"
   ]
  }
 ],
 "metadata": {
  "kernelspec": {
   "display_name": "Python [conda env:base] *",
   "language": "python",
   "name": "conda-base-py"
  },
  "language_info": {
   "codemirror_mode": {
    "name": "ipython",
    "version": 3
   },
   "file_extension": ".py",
   "mimetype": "text/x-python",
   "name": "python",
   "nbconvert_exporter": "python",
   "pygments_lexer": "ipython3",
   "version": "3.13.5"
  }
 },
 "nbformat": 4,
 "nbformat_minor": 5
}
