{
 "cells": [
  {
   "cell_type": "code",
   "execution_count": 8,
   "id": "6e9d33b2-c4de-4acc-ae0e-45c0393df933",
   "metadata": {},
   "outputs": [
    {
     "name": "stdout",
     "output_type": "stream",
     "text": [
      "✅ Arquivo C:\\Users\\diego\\OneDrive\\DATAMASTER\\dados_bacen_new\\inadimplencia_estimada_uf_20250815.csv enviado para gs://bucket-datamaster/inadimplencia_estimada_uf_20250815.csv\n",
      "✅ Tabela inadimplencia_estimada_uf criada no BigQuery a partir de gs://bucket-datamaster/inadimplencia_estimada_uf_20250815.csv\n"
     ]
    }
   ],
   "source": [
    "from google.cloud import storage, bigquery\n",
    "import os\n",
    "from datetime import datetime\n",
    "\n",
    "# Caminho para o arquivo de credenciais JSON\n",
    "os.environ[\"GOOGLE_APPLICATION_CREDENTIALS\"] = r\"C:\\Users\\diego\\OneDrive\\DATAMASTER\\dados_bacen_new\\case-radar-de-risco-f1ef8b6de88c.json\"\n",
    "\n",
    "# 📅 Data atual no formato YYYYMMDD\n",
    "data_hoje = datetime.today().strftime('%Y%m%d')\n",
    "\n",
    "# 🔧 Parâmetros dinâmicos\n",
    "nome_arquivo = f\"inadimplencia_estimada_uf_{data_hoje}.csv\"\n",
    "local_file_path = fr\"C:\\Users\\diego\\OneDrive\\DATAMASTER\\dados_bacen_new\\{nome_arquivo}\"\n",
    "bucket_name = \"bucket-datamaster\"\n",
    "destination_blob_name = nome_arquivo\n",
    "dataset_id = \"camada_bronze\"\n",
    "table_id = \"inadimplencia_estimada_uf\"\n",
    "\n",
    "# 1️⃣ Upload para o bucket no GCS\n",
    "def upload_to_bucket():\n",
    "    storage_client = storage.Client()\n",
    "    bucket = storage_client.bucket(bucket_name)\n",
    "    blob = bucket.blob(destination_blob_name)\n",
    "\n",
    "    blob.upload_from_filename(local_file_path)\n",
    "    print(f\"✅ Arquivo {local_file_path} enviado para gs://{bucket_name}/{destination_blob_name}\")\n",
    "\n",
    "# 2️⃣ Importar para o BigQuery\n",
    "def import_to_bigquery():\n",
    "    client = bigquery.Client()\n",
    "\n",
    "    uri = f\"gs://{bucket_name}/{destination_blob_name}\"\n",
    "\n",
    "    job_config = bigquery.LoadJobConfig(\n",
    "        source_format=bigquery.SourceFormat.CSV,\n",
    "        skip_leading_rows=1,\n",
    "        autodetect=True,\n",
    "    )\n",
    "\n",
    "    table_ref = client.dataset(dataset_id).table(table_id)\n",
    "    load_job = client.load_table_from_uri(uri, table_ref, job_config=job_config)\n",
    "\n",
    "    load_job.result()  # Espera o job terminar\n",
    "    print(f\"✅ Tabela {table_id} criada no BigQuery a partir de {uri}\")\n",
    "\n",
    "# 🚀 Executa as funções\n",
    "upload_to_bucket()\n",
    "import_to_bigquery()"
   ]
  }
 ],
 "metadata": {
  "kernelspec": {
   "display_name": "Python [conda env:base] *",
   "language": "python",
   "name": "conda-base-py"
  },
  "language_info": {
   "codemirror_mode": {
    "name": "ipython",
    "version": 3
   },
   "file_extension": ".py",
   "mimetype": "text/x-python",
   "name": "python",
   "nbconvert_exporter": "python",
   "pygments_lexer": "ipython3",
   "version": "3.13.5"
  }
 },
 "nbformat": 4,
 "nbformat_minor": 5
}
