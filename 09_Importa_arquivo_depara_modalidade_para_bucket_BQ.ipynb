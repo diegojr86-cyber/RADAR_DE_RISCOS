{
 "cells": [
  {
   "cell_type": "code",
   "execution_count": 9,
   "id": "75e9166e-9540-42b1-a21c-70461e978e47",
   "metadata": {},
   "outputs": [
    {
     "name": "stdout",
     "output_type": "stream",
     "text": [
      "Requirement already satisfied: google-cloud-bigquery in c:\\users\\diego\\anaconda3\\lib\\site-packages (3.35.1)\n",
      "Requirement already satisfied: google-api-core<3.0.0,>=2.11.1 in c:\\users\\diego\\anaconda3\\lib\\site-packages (from google-api-core[grpc]<3.0.0,>=2.11.1->google-cloud-bigquery) (2.25.1)\n",
      "Requirement already satisfied: google-auth<3.0.0,>=2.14.1 in c:\\users\\diego\\anaconda3\\lib\\site-packages (from google-cloud-bigquery) (2.40.3)\n",
      "Requirement already satisfied: google-cloud-core<3.0.0,>=2.4.1 in c:\\users\\diego\\anaconda3\\lib\\site-packages (from google-cloud-bigquery) (2.4.3)\n",
      "Requirement already satisfied: google-resumable-media<3.0.0,>=2.0.0 in c:\\users\\diego\\anaconda3\\lib\\site-packages (from google-cloud-bigquery) (2.7.2)\n",
      "Requirement already satisfied: packaging>=24.2.0 in c:\\users\\diego\\anaconda3\\lib\\site-packages (from google-cloud-bigquery) (24.2)\n",
      "Requirement already satisfied: python-dateutil<3.0.0,>=2.8.2 in c:\\users\\diego\\anaconda3\\lib\\site-packages (from google-cloud-bigquery) (2.9.0.post0)\n",
      "Requirement already satisfied: requests<3.0.0,>=2.21.0 in c:\\users\\diego\\anaconda3\\lib\\site-packages (from google-cloud-bigquery) (2.32.3)\n",
      "Requirement already satisfied: googleapis-common-protos<2.0.0,>=1.56.2 in c:\\users\\diego\\anaconda3\\lib\\site-packages (from google-api-core<3.0.0,>=2.11.1->google-api-core[grpc]<3.0.0,>=2.11.1->google-cloud-bigquery) (1.70.0)\n",
      "Requirement already satisfied: protobuf!=3.20.0,!=3.20.1,!=4.21.0,!=4.21.1,!=4.21.2,!=4.21.3,!=4.21.4,!=4.21.5,<7.0.0,>=3.19.5 in c:\\users\\diego\\anaconda3\\lib\\site-packages (from google-api-core<3.0.0,>=2.11.1->google-api-core[grpc]<3.0.0,>=2.11.1->google-cloud-bigquery) (6.31.1)\n",
      "Requirement already satisfied: proto-plus<2.0.0,>=1.22.3 in c:\\users\\diego\\anaconda3\\lib\\site-packages (from google-api-core<3.0.0,>=2.11.1->google-api-core[grpc]<3.0.0,>=2.11.1->google-cloud-bigquery) (1.26.1)\n",
      "Requirement already satisfied: grpcio<2.0.0,>=1.33.2 in c:\\users\\diego\\anaconda3\\lib\\site-packages (from google-api-core[grpc]<3.0.0,>=2.11.1->google-cloud-bigquery) (1.74.0)\n",
      "Requirement already satisfied: grpcio-status<2.0.0,>=1.33.2 in c:\\users\\diego\\anaconda3\\lib\\site-packages (from google-api-core[grpc]<3.0.0,>=2.11.1->google-cloud-bigquery) (1.74.0)\n",
      "Requirement already satisfied: cachetools<6.0,>=2.0.0 in c:\\users\\diego\\anaconda3\\lib\\site-packages (from google-auth<3.0.0,>=2.14.1->google-cloud-bigquery) (5.5.1)\n",
      "Requirement already satisfied: pyasn1-modules>=0.2.1 in c:\\users\\diego\\anaconda3\\lib\\site-packages (from google-auth<3.0.0,>=2.14.1->google-cloud-bigquery) (0.2.8)\n",
      "Requirement already satisfied: rsa<5,>=3.1.4 in c:\\users\\diego\\anaconda3\\lib\\site-packages (from google-auth<3.0.0,>=2.14.1->google-cloud-bigquery) (4.9.1)\n",
      "Requirement already satisfied: google-crc32c<2.0dev,>=1.0 in c:\\users\\diego\\anaconda3\\lib\\site-packages (from google-resumable-media<3.0.0,>=2.0.0->google-cloud-bigquery) (1.7.1)\n",
      "Requirement already satisfied: six>=1.5 in c:\\users\\diego\\anaconda3\\lib\\site-packages (from python-dateutil<3.0.0,>=2.8.2->google-cloud-bigquery) (1.17.0)\n",
      "Requirement already satisfied: charset-normalizer<4,>=2 in c:\\users\\diego\\anaconda3\\lib\\site-packages (from requests<3.0.0,>=2.21.0->google-cloud-bigquery) (3.3.2)\n",
      "Requirement already satisfied: idna<4,>=2.5 in c:\\users\\diego\\anaconda3\\lib\\site-packages (from requests<3.0.0,>=2.21.0->google-cloud-bigquery) (3.7)\n",
      "Requirement already satisfied: urllib3<3,>=1.21.1 in c:\\users\\diego\\anaconda3\\lib\\site-packages (from requests<3.0.0,>=2.21.0->google-cloud-bigquery) (2.3.0)\n",
      "Requirement already satisfied: certifi>=2017.4.17 in c:\\users\\diego\\anaconda3\\lib\\site-packages (from requests<3.0.0,>=2.21.0->google-cloud-bigquery) (2025.8.3)\n",
      "Requirement already satisfied: pyasn1>=0.1.3 in c:\\users\\diego\\anaconda3\\lib\\site-packages (from rsa<5,>=3.1.4->google-auth<3.0.0,>=2.14.1->google-cloud-bigquery) (0.4.8)\n",
      "Arquivo C:\\Users\\diego\\OneDrive\\DATAMASTER\\dados_bacen_new\\codigo_modalidade_tipo_20250814.csv enviado para gs://bucket-datamaster/codigo_modalidade_tipo_20250814.csv\n",
      "Tabela depara_codigo_modalidade_tipo criada no BigQuery a partir de gs://bucket-datamaster/codigo_modalidade_tipo_20250814.csv\n"
     ]
    }
   ],
   "source": [
    "\n",
    "#1. Instalando a biblioteca\n",
    "!pip install google-cloud-bigquery\n",
    "\n",
    "\n",
    "##Importa arquivo para o bucket###\n",
    "from google.cloud import storage, bigquery\n",
    "import os\n",
    "\n",
    "# Caminho para o arquivo de credenciais JSON\n",
    "os.environ[\"GOOGLE_APPLICATION_CREDENTIALS\"] = r\"C:\\Users\\diego\\OneDrive\\DATAMASTER\\dados_bacen_new\\case-radar-de-risco-f1ef8b6de88c.json\"\n",
    "\n",
    "# Parâmetros\n",
    "local_file_path = r\"C:\\Users\\diego\\OneDrive\\DATAMASTER\\dados_bacen_new\\codigo_modalidade_tipo_20250814.csv\"  # Altere para o nome do seu arquivo\n",
    "bucket_name = \"bucket-datamaster\"\n",
    "destination_blob_name = \"codigo_modalidade_tipo_20250814.csv\"  # Nome do arquivo no bucket\n",
    "dataset_id = \"camada_bronze\"  # Substitua pelo nome do seu dataset no BigQuery\n",
    "table_id = \"depara_codigo_modalidade_tipo\"       # Nome da tabela que será criada\n",
    "\n",
    "# 1️⃣ Upload para o bucket no GCS\n",
    "def upload_to_bucket():\n",
    "    storage_client = storage.Client()\n",
    "    bucket = storage_client.bucket(bucket_name)\n",
    "    blob = bucket.blob(destination_blob_name)\n",
    "\n",
    "    blob.upload_from_filename(local_file_path)\n",
    "    print(f\"Arquivo {local_file_path} enviado para gs://{bucket_name}/{destination_blob_name}\")\n",
    "\n",
    "# 2️⃣ Importar para o BigQuery\n",
    "def import_to_bigquery():\n",
    "    client = bigquery.Client()\n",
    "\n",
    "    uri = f\"gs://{bucket_name}/{destination_blob_name}\"\n",
    "\n",
    "    job_config = bigquery.LoadJobConfig(\n",
    "        source_format=bigquery.SourceFormat.CSV,\n",
    "        skip_leading_rows=1,\n",
    "        autodetect=True,\n",
    "    )\n",
    "\n",
    "    table_ref = client.dataset(dataset_id).table(table_id)\n",
    "    load_job = client.load_table_from_uri(uri, table_ref, job_config=job_config)\n",
    "\n",
    "    load_job.result()  # Espera o job terminar\n",
    "    print(f\"Tabela {table_id} criada no BigQuery a partir de {uri}\")\n",
    "\n",
    "# Executa as funções\n",
    "upload_to_bucket()\n",
    "import_to_bigquery()"
   ]
  }
 ],
 "metadata": {
  "kernelspec": {
   "display_name": "Python [conda env:base] *",
   "language": "python",
   "name": "conda-base-py"
  },
  "language_info": {
   "codemirror_mode": {
    "name": "ipython",
    "version": 3
   },
   "file_extension": ".py",
   "mimetype": "text/x-python",
   "name": "python",
   "nbconvert_exporter": "python",
   "pygments_lexer": "ipython3",
   "version": "3.13.5"
  }
 },
 "nbformat": 4,
 "nbformat_minor": 5
}
