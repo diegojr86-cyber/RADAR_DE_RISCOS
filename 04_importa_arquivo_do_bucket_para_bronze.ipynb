{
 "cells": [
  {
   "cell_type": "code",
   "execution_count": 48,
   "id": "18c8cc7f-6457-44d0-9a85-c7e0b6e9cb23",
   "metadata": {},
   "outputs": [
    {
     "name": "stdout",
     "output_type": "stream",
     "text": [
      "✅ Tabela `dados_bacen` criada com sucesso em `camada_bronze` com campo data_carga = 2025-08-15\n"
     ]
    }
   ],
   "source": [
    "from google.cloud import bigquery\n",
    "import os\n",
    "from datetime import datetime\n",
    "\n",
    "# Caminho para o arquivo de credenciais\n",
    "os.environ[\"GOOGLE_APPLICATION_CREDENTIALS\"] = r\"C:\\Users\\diego\\OneDrive\\DATAMASTER\\dados_bacen_new\\case-radar-de-risco-f1ef8b6de88c.json\"\n",
    "\n",
    "# 📅 Data atual no formato YYYYMMDD\n",
    "data_hoje = datetime.today().strftime('%Y%m%d')\n",
    "data_formatada = datetime.today().date()  # yyyy-mm-dd\n",
    "\n",
    "# Parâmetros\n",
    "bucket_name = \"bucket-datamaster\"\n",
    "file_name = f\"inadimplencia_bacen_{data_hoje}.csv\"\n",
    "dataset_id = \"camada_bronze\"\n",
    "table_id = \"dados_bacen\"\n",
    "\n",
    "# URI do arquivo no bucket\n",
    "uri = f\"gs://{bucket_name}/{file_name}\"\n",
    "\n",
    "# Cliente do BigQuery\n",
    "client = bigquery.Client()\n",
    "\n",
    "# Configuração do job\n",
    "job_config = bigquery.LoadJobConfig(\n",
    "    source_format=bigquery.SourceFormat.CSV,\n",
    "    skip_leading_rows=1,\n",
    "    autodetect=True,\n",
    "    write_disposition=\"WRITE_TRUNCATE\",  # Sobrescreve se já existir\n",
    ")\n",
    "\n",
    "# Cria a tabela temporária\n",
    "table_ref = client.dataset(dataset_id).table(table_id)\n",
    "load_job = client.load_table_from_uri(uri, table_ref, job_config=job_config)\n",
    "load_job.result()\n",
    "\n",
    "# Adiciona a coluna data_carga com a data do dia\n",
    "query = f\"\"\"\n",
    "CREATE OR REPLACE TABLE `{client.project}.{dataset_id}.{table_id}` AS\n",
    "SELECT *, DATE('{data_formatada}') AS data_carga\n",
    "FROM `{client.project}.{dataset_id}.{table_id}`\n",
    "\"\"\"\n",
    "\n",
    "query_job = client.query(query)\n",
    "query_job.result()\n",
    "\n",
    "print(f\"✅ Tabela `{table_id}` criada com sucesso em `{dataset_id}` com campo data_carga = {data_formatada}\")"
   ]
  },
  {
   "cell_type": "code",
   "execution_count": 34,
   "id": "38283f95-4d4e-415b-94e1-925efc9607ac",
   "metadata": {},
   "outputs": [
    {
     "name": "stdout",
     "output_type": "stream",
     "text": [
      "float64\n"
     ]
    }
   ],
   "source": []
  },
  {
   "cell_type": "code",
   "execution_count": 43,
   "id": "fd6da3fb-d358-464a-ba09-8b8c2fd1f78f",
   "metadata": {
    "scrolled": true
   },
   "outputs": [
    {
     "name": "stdout",
     "output_type": "stream",
     "text": [
      "Erro de conexão ao acessar a série 24370: HTTPSConnectionPool(host='api.bcb.gov.br', port=443): Read timed out. (read timeout=10)\n",
      "        data  modalidade estado  inadimplencia_estimada\n",
      "0 2015-01-01       24363     SP             2678530.525\n",
      "1 2015-01-01       24363     MG              993491.322\n",
      "2 2015-01-01       24363     RJ              866869.879\n",
      "3 2015-01-01       24363     BA              613626.993\n",
      "4 2015-01-01       24363     PR              555186.327\n"
     ]
    }
   ],
   "source": []
  },
  {
   "cell_type": "code",
   "execution_count": null,
   "id": "af7b3009-505e-4d23-b9fe-8b97fcf228d3",
   "metadata": {},
   "outputs": [],
   "source": []
  },
  {
   "cell_type": "code",
   "execution_count": null,
   "id": "df08cb16-8e4f-4ca5-ab88-ac02ea61ec8d",
   "metadata": {},
   "outputs": [],
   "source": []
  }
 ],
 "metadata": {
  "kernelspec": {
   "display_name": "Python [conda env:base] *",
   "language": "python",
   "name": "conda-base-py"
  },
  "language_info": {
   "codemirror_mode": {
    "name": "ipython",
    "version": 3
   },
   "file_extension": ".py",
   "mimetype": "text/x-python",
   "name": "python",
   "nbconvert_exporter": "python",
   "pygments_lexer": "ipython3",
   "version": "3.13.5"
  }
 },
 "nbformat": 4,
 "nbformat_minor": 5
}
